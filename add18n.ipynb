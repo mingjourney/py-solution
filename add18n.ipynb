{
 "cells": [
  {
   "cell_type": "markdown",
   "metadata": {},
   "source": [
    "#### 用于开发过程中的数据处理 多语言"
   ]
  },
  {
   "cell_type": "code",
   "execution_count": 104,
   "metadata": {},
   "outputs": [],
   "source": [
    "import pandas as pd\n",
    "import json"
   ]
  },
  {
   "cell_type": "code",
   "execution_count": 112,
   "metadata": {},
   "outputs": [
    {
     "data": {
      "text/plain": [
       "dict"
      ]
     },
     "execution_count": 112,
     "metadata": {},
     "output_type": "execute_result"
    }
   ],
   "source": [
    "# 读取.json文件中的对象转python字典\n",
    "jsondir = './data/data.json'\n",
    "\n",
    "with open(jsondir) as f:\n",
    "  json_str_r = json.load(f)\n",
    "type(json_str_r)"
   ]
  },
  {
   "cell_type": "code",
   "execution_count": 114,
   "metadata": {},
   "outputs": [],
   "source": [
    "# 读入表格\n",
    "exceldir = './data/AccessControl.xlsx'\n",
    "df = pd.DataFrame(pd.read_excel(exceldir))"
   ]
  },
  {
   "cell_type": "code",
   "execution_count": 77,
   "metadata": {},
   "outputs": [],
   "source": [
    "# 删除表头以外的行\n",
    "df.head(0).to_excel(exceldir, index=False)"
   ]
  },
  {
   "cell_type": "code",
   "execution_count": 107,
   "metadata": {},
   "outputs": [],
   "source": [
    "# 读取df指定列 转为字典 并输出到.json\n",
    "kcList = df.loc[:,['Key (关键信息)','1_English (English-英文)']].values\n",
    "a = {}\n",
    "for [k, v] in kcList:\n",
    "  a[k] = v  \n",
    "json_str = json.dumps(a)\n",
    "# 写入json文件\n",
    "with open('data.json', 'w') as f:\n",
    "  f.write(json_str)"
   ]
  },
  {
   "cell_type": "code",
   "execution_count": 66,
   "metadata": {},
   "outputs": [],
   "source": [
    "# 把txtObj输入到 excel （追加)\n",
    "# 其中键名输入第一列 键值输入第三列\n",
    "newData = pd.DataFrame(list(json_str_r.items()), columns=[df.columns[0],df.columns[2]])\n",
    "df = pd.concat([df, newData], ignore_index=True)\n",
    "df.to_excel(exceldir, index=False)"
   ]
  },
  {
   "cell_type": "code",
   "execution_count": null,
   "metadata": {},
   "outputs": [],
   "source": [
    "df"
   ]
  }
 ],
 "metadata": {
  "kernelspec": {
   "display_name": "Python 3",
   "language": "python",
   "name": "python3"
  },
  "language_info": {
   "codemirror_mode": {
    "name": "ipython",
    "version": 3
   },
   "file_extension": ".py",
   "mimetype": "text/x-python",
   "name": "python",
   "nbconvert_exporter": "python",
   "pygments_lexer": "ipython3",
   "version": "3.8.0"
  }
 },
 "nbformat": 4,
 "nbformat_minor": 2
}
